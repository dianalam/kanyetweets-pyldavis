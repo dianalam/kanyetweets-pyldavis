{
 "cells": [
  {
   "cell_type": "code",
   "execution_count": 41,
   "metadata": {
    "collapsed": true
   },
   "outputs": [],
   "source": [
    "import pickle\n",
    "import pandas as pd\n",
    "from spacy.en import English, STOPWORDS\n",
    "import re\n",
    "import pyLDAvis\n",
    "from sklearn.feature_extraction.text import CountVectorizer, TfidfVectorizer\n",
    "from sklearn.decomposition import LatentDirichletAllocation\n",
    "from nltk.stem import WordNetLemmatizer \n",
    "import numpy as np"
   ]
  },
  {
   "cell_type": "markdown",
   "metadata": {},
   "source": [
    "#### 1. Load tweets"
   ]
  },
  {
   "cell_type": "code",
   "execution_count": 2,
   "metadata": {
    "collapsed": true
   },
   "outputs": [],
   "source": [
    "with open('tweets/kanye_tweets.pkl', 'r') as picklefile:\n",
    "    kanye = pickle.load(picklefile)"
   ]
  },
  {
   "cell_type": "code",
   "execution_count": 5,
   "metadata": {
    "collapsed": false
   },
   "outputs": [],
   "source": [
    "kanye_df = pd.DataFrame(kanye)\n",
    "keep = ['id', 'text']\n",
    "kanye_df = kanye_df[keep]"
   ]
  },
  {
   "cell_type": "code",
   "execution_count": 53,
   "metadata": {
    "collapsed": false
   },
   "outputs": [
    {
     "data": {
      "text/plain": [
       "0               I'm going to steal Demna from Balenciaga\n",
       "1      You won't always agree with me but I'm gon alw...\n",
       "2      The world needs a guy like me. The world needs...\n",
       "3      I love being a voice of freedom when so many p...\n",
       "4                     I represent what people can't say.\n",
       "5                           New album coming this summer\n",
       "6      I'm not even gon lie to you. I love me so much...\n",
       "7      And yes I've talked to Adidas and we gon hook ...\n",
       "8      That is one of the reasons I respect the paps ...\n",
       "9      Respect to everyone working hard to keep a roo...\n",
       "10     What is your definition of true freedom? There...\n",
       "11     I just had to start with shoes so that I could...\n",
       "12     You guys will see my heart. You guys will feel...\n",
       "13     It's a beautiful time.  I love my friends. I l...\n",
       "14          Free from being held back by public opinion.\n",
       "15     I'm happy and free and proud and confident. I'...\n",
       "16     I'm proud as an entrepreneur that I gave every...\n",
       "17     I wrote Saint Pablo after admitting to my grea...\n",
       "18     No slave mindset no more. I'm free. I'm free. ...\n",
       "19                               I'm not crazy I'm free.\n",
       "20     People ask why I speak in a public forum... We...\n",
       "21     We need to see Young Thug at the Grammys.  Not...\n",
       "22     First order of business. We the people need to...\n",
       "23     and always remember that rock and roll was sto...\n",
       "24                 Us real music guys wanna have fun too\n",
       "25     Neil please reach out as soon as possible so w...\n",
       "26     All artists have a problem with it and I am go...\n",
       "27     Has anyone at the Grammys ever heard March Mad...\n",
       "28     You like your black people a certain way also....\n",
       "29          You guys are supposed to be all about taste.\n",
       "                             ...                        \n",
       "584    I loved working on this new John Legend album,...\n",
       "585    PUSHA-T:  MY NAME IS MY NAME.  COVER 2. OCT 8T...\n",
       "586    PUSHA-T:  MY NAME IS MY NAME.  COVER 2. OCT 8T...\n",
       "587    PUSHA-T:  MY NAME IS MY NAME.  COVER 1. OCT 8T...\n",
       "588              BIG SEAN. HALL OF FAME. IN-STORE TODAY.\n",
       "589    BLOOD ON THE LEAVES http://t.co/1xvft3iIuj htt...\n",
       "590    New Big Sean video - creative direction by Mat...\n",
       "591    please don't diminish the user experience by j...\n",
       "592    if you put a link to my site people will be ab...\n",
       "593    ATTENTION all sites just posting merely the vi...\n",
       "594              BLKKK SKKKN HEAD http://t.co/ctery9mHJA\n",
       "595         BLKKK SKKKN HEAD INFO http://t.co/ROYekqB2aR\n",
       "596    I open the debate… The 2nd verse of New Slaves...\n",
       "597                               http://t.co/hkUH7FrnNh\n",
       "598       And to who ever leaked the video…     FUK YOU!\n",
       "599    Allow me and Nick to give the world what we've...\n",
       "600    So any website that may have the unapproved / ...\n",
       "601    The final version will be ready within the nex...\n",
       "602    Me and Nick Knight have been working on this v...\n",
       "603    The BLKKK SKKKN HD video that leaked yesterday...\n",
       "604    Thank you Jean Touitou for letting me create w...\n",
       "605    This is not another \"Robot\" movie.   Guillermo...\n",
       "606    I saw a pre-screening of Pacific Rim yesterday...\n",
       "607    one of the other gifts my girl gave me for fat...\n",
       "608    ENTER FOR A CHANCE TO WIN A PAIR OF THE RED NI...\n",
       "609    YEEZUS ALBUM NOW AVAILABLE AT http://t.co/7BZw...\n",
       "610    NEW MUSIC AT NEW PROJECTION LOCATIONS @ http:/...\n",
       "611                BLK SKN HEAD 2 http://t.co/eRErgwx8hc\n",
       "612                  BLK SKN HEAD http://t.co/CVnr8iUkzN\n",
       "613    NEW SONG AND VISUAL FROM MY NEW ALBUM BEING PR...\n",
       "Name: text, dtype: object"
      ]
     },
     "execution_count": 53,
     "metadata": {},
     "output_type": "execute_result"
    }
   ],
   "source": [
    "kanye_df.text"
   ]
  },
  {
   "cell_type": "markdown",
   "metadata": {},
   "source": [
    "#### 2. Get tokens"
   ]
  },
  {
   "cell_type": "code",
   "execution_count": 8,
   "metadata": {
    "collapsed": true
   },
   "outputs": [],
   "source": [
    "nlp = English()"
   ]
  },
  {
   "cell_type": "code",
   "execution_count": 9,
   "metadata": {
    "collapsed": false
   },
   "outputs": [],
   "source": [
    "def get_tokens(text):  \n",
    "    \"\"\"Return lemmatized tokens.\"\"\"\n",
    "    text = re.sub(r\"http\\S+\", \"\", text) \n",
    "    letters_only = re.sub(\"[^a-zA-Z]\", \" \", text) \n",
    "    words = ' '.join(letters_only.lower().split())\n",
    "    try:\n",
    "        tokens = [token.lemma_ for token in nlp(words)] \n",
    "    except:\n",
    "        tokens = [token.lemma_ for token in nlp(words.decode('utf8'))] \n",
    "    filtered = [t for t in tokens if t != '' and t != ' ' and t != '\\n' and t != '\\n\\n']\n",
    "    return ' '.join(filtered)"
   ]
  },
  {
   "cell_type": "code",
   "execution_count": 12,
   "metadata": {
    "collapsed": false
   },
   "outputs": [],
   "source": [
    "kanye_df.loc[:, 'tokens'] = kanye_df.loc[:, 'text'].apply(get_tokens)"
   ]
  },
  {
   "cell_type": "markdown",
   "metadata": {},
   "source": [
    "#### 3. Create LDA model / prep pyLDAvis inputs\n",
    "**Requirements**\n",
    "* topic term distribution\n",
    "* document topic distribution\n",
    "* document lengths\n",
    "* list of words in corpus\n",
    "* term frequency"
   ]
  },
  {
   "cell_type": "code",
   "execution_count": 60,
   "metadata": {
    "collapsed": true
   },
   "outputs": [],
   "source": [
    "def prep_pylda(docs, n_topics = 5):   \n",
    "    vect = TfidfVectorizer(max_df = 0.5, max_features = 10000,\n",
    "                                 min_df = 5, stop_words = STOPWORDS,\n",
    "                                 use_idf = True, tokenizer = None, ngram_range=(1, 3))\n",
    "    matrix = vect.fit_transform(docs)\n",
    "    vocab = vect.get_feature_names()\n",
    "    \n",
    "    # fit transform lda\n",
    "    lda = LatentDirichletAllocation(n_topics=n_topics, max_iter=5,\n",
    "                learning_method='online', learning_offset=50.,\n",
    "                random_state=0, doc_topic_prior = .001)\n",
    "    doc_topic_dists = lda.fit_transform(matrix)\n",
    "    \n",
    "    # prepare pyLDAvis stuff \n",
    "    get_normed = lambda data: pd.DataFrame(data).div(data.sum(axis = 1), axis = 0) \n",
    "    prepared = pyLDAvis.prepare(\n",
    "            doc_lengths = docs.str.len(),\n",
    "            vocab = vocab,\n",
    "            term_frequency = np.asarray(matrix.sum(axis = 0)).ravel().tolist(),\n",
    "            topic_term_dists = get_normed(lda.components_),  \n",
    "            doc_topic_dists = get_normed(doc_topic_dists)) \n",
    "    \n",
    "    return prepared"
   ]
  },
  {
   "cell_type": "code",
   "execution_count": 75,
   "metadata": {
    "collapsed": false
   },
   "outputs": [],
   "source": [
    "prepared = prep_pylda(kanye_df.tokens, n_topics = 3)"
   ]
  },
  {
   "cell_type": "markdown",
   "metadata": {},
   "source": [
    "#### 4. Create pyLDAvis\n",
    "* how prevalent is each topic?\n",
    "* how do topics relate to one another?\n",
    "* what is the meaning of each topic? what words commonly occur?"
   ]
  },
  {
   "cell_type": "code",
   "execution_count": 76,
   "metadata": {
    "collapsed": false
   },
   "outputs": [
    {
     "data": {
      "text/html": [
       "\n",
       "<link rel=\"stylesheet\" type=\"text/css\" href=\"https://cdn.rawgit.com/bmabey/pyLDAvis/files/ldavis.v1.0.0.css\">\n",
       "\n",
       "\n",
       "<div id=\"ldavis_el2953446045692962362708981\"></div>\n",
       "<script type=\"text/javascript\">\n",
       "\n",
       "var ldavis_el2953446045692962362708981_data = {\"plot.opts\": {\"xlab\": \"PC1\", \"ylab\": \"PC2\"}, \"topic.order\": [2, 1, 3], \"token.table\": {\"Topic\": [1, 2, 3, 1, 2, 3, 1, 2, 3, 1, 2, 3, 1, 2, 3, 1, 2, 3, 1, 2, 3, 1, 2, 3, 1, 2, 3, 1, 2, 3, 1, 2, 3, 1, 2, 3, 1, 2, 3, 1, 2, 3, 1, 2, 3, 1, 2, 3, 1, 2, 3, 1, 2, 3, 1, 2, 3, 1, 2, 3, 1, 2, 3, 1, 2, 3, 1, 2, 3, 1, 2, 3, 1, 2, 3, 1, 2, 3, 1, 2, 3, 1, 2, 3, 1, 2, 3, 1, 2, 3, 1, 2, 3, 1, 2, 3, 1, 2, 3, 1, 2, 3, 1, 2, 3, 1, 2, 3, 1, 2, 3, 1, 2, 3, 1, 2, 3, 1, 2, 3, 1, 2, 3, 1, 2, 3, 1, 2, 3, 1, 2, 3, 1, 2, 3, 1, 2, 3, 1, 2, 3, 1, 2, 3, 1, 2, 3, 1, 2, 3, 1, 2, 3, 1, 2, 3, 1, 2, 3, 1, 2, 3, 1, 2, 3, 1, 2, 3, 1, 2, 3, 1, 2, 3, 1, 2, 3, 1, 2, 3, 1, 2, 3, 1, 2, 3, 1, 2, 3, 1, 2, 3, 1, 2, 3, 1, 2, 3, 1, 2, 3, 1, 2, 3, 1, 2, 3, 1, 2, 3, 1, 2, 3, 1, 2, 3, 1, 2, 3, 1, 2, 3, 1, 2, 3, 1, 2, 3, 1, 2, 3, 1, 2, 3, 1, 2, 3, 1, 2, 3, 1, 2, 3, 1, 2, 3, 1, 2, 3, 1, 2, 3, 1, 2, 3, 1, 2, 3, 1, 2, 3, 1, 2, 3, 1, 2, 3, 1, 2, 3, 1, 2, 3, 1, 2, 3, 1, 2, 3, 1, 2, 3, 1, 2, 3, 1, 2, 3, 1, 2, 3, 1, 2, 3, 1, 2, 3, 1, 2, 3, 1, 2, 3, 1, 2, 3, 1, 2, 3], \"Freq\": [0.72875602529738148, 0.12826106045233915, 0.14575120505947628, 0.23937632552160229, 0.11690471711520112, 0.64019249848800608, 0.17562041692216682, 0.76809808719804828, 0.055966946052119097, 0.79518024395141551, 0.09387544546648656, 0.10491961552136733, 0.61190679498224188, 0.17651157547564669, 0.21181389057077604, 0.78284410646174407, 0.075637111735434207, 0.14371051229732498, 0.80096736358058529, 0.093940616716241487, 0.10877334567143751, 0.37476908713636997, 0.13880336560606296, 0.48581177962122035, 0.33587360002414157, 0.12374290527205216, 0.54211177547756184, 0.67227935312370901, 0.15642143364759567, 0.16973389608568892, 0.27645512346963663, 0.58896961087009536, 0.13822756173481832, 0.44567373103239893, 0.1242744057686497, 0.42853243368499899, 0.099719713788830808, 0.81437766260878497, 0.083099761490692342, 0.32709361973872009, 0.10429071933698322, 0.5688584691108175, 0.82796316656327451, 0.068996930546939533, 0.099183087661225591, 0.17885222039848014, 0.67248434869828533, 0.15023586513472331, 0.79877500331218598, 0.1217180957428093, 0.083681190823181387, 0.65359286036267805, 0.11700119105257817, 0.22996785827575708, 0.70324644757131261, 0.11507669142076024, 0.17900818665451593, 0.86640757345824349, 0.076118494825788835, 0.060447040008714661, 0.17513623939056133, 0.68757190279257407, 0.13621707508154771, 0.7705776966272444, 0.038267966875393626, 0.19133983437696814, 0.34748039176899836, 0.17831230630251232, 0.47549948347336618, 0.77468964347636804, 0.13557068760836441, 0.0871525848910914, 0.064232797890088511, 0.04817459841756639, 0.88855370414622448, 0.65645083865659648, 0.20688147642510918, 0.13924714759382348, 0.83196363888834501, 0.10673217735738637, 0.060207894919551287, 0.18005176707144932, 0.65538843214007547, 0.16564762570573335, 0.324347594454788, 0.079109169379216596, 0.59331877034412439, 0.37611080489024851, 0.39751548484335208, 0.22322023379665157, 0.10991056135366299, 0.3345104041198439, 0.55433152682716991, 0.77733888323114542, 0.11063250023514429, 0.11063250023514429, 0.33556693252255326, 0.57701143275219524, 0.085937872963092896, 0.89392521615302756, 0.048551848800643664, 0.057119822118404315, 0.23949777544481912, 0.088802545951449791, 0.67274656023825596, 0.84015019589331597, 0.07235743313913727, 0.088436862725612214, 0.24892816994634373, 0.64721324186049367, 0.10454983137746438, 0.16564456555549137, 0.23852817439990759, 0.59632043599976892, 0.81976630196848532, 0.059740054394464517, 0.11948010878892903, 0.10015774229651815, 0.69815838012572951, 0.2003154845930363, 0.2626818679423627, 0.44967574003692595, 0.28494304319171548, 0.21367475195085386, 0.20091805034184768, 0.58680827401428526, 0.72620847200864524, 0.16137966044636562, 0.11296576231245593, 0.86498253281277593, 0.065106212147198181, 0.069756655871998058, 0.79409127264828672, 0.1281866414966836, 0.078243794160313365, 0.18350201708363334, 0.64931482968054877, 0.16938647730796924, 0.17004983195808032, 0.66602850850248119, 0.1629644222931603, 0.17064664759501783, 0.66125575943069403, 0.17064664759501783, 0.75887464294438445, 0.11105482579673918, 0.12956396342952906, 0.49366483277774836, 0.098732966555549667, 0.40532481007015125, 0.42840599457303585, 0.48663593558296303, 0.083185630014181708, 0.32190519967712899, 0.50531630181874909, 0.17218185099009226, 0.28531215581505187, 0.63673322578237179, 0.076547163755257816, 0.12650207091170959, 0.73371201128791563, 0.13662223658464634, 0.22396398682006574, 0.14583701467353119, 0.63022424198204552, 0.69052467566867226, 0.081455993912658398, 0.22585525584873464, 0.1276333688832548, 0.099886984343416793, 0.77134949020749632, 0.26710692725123236, 0.22362440421033405, 0.50936669847909422, 0.2118925093766437, 0.53936275114054755, 0.25041842017239707, 0.1982843533426982, 0.63450993069663431, 0.15862748267415858, 0.76820245282291477, 0.16371527683111298, 0.069264155582393946, 0.11328608942959162, 0.78315166170891604, 0.10836060728047894, 0.19063926387318678, 0.085787668742934045, 0.72442920271810973, 0.12678077962814946, 0.048983483038148659, 0.82407506758297155, 0.83234556629996503, 0.091037796314058672, 0.074781046972262483, 0.11165255428071964, 0.8294189746567745, 0.061143065439441709, 0.30670462690274841, 0.55622703523040817, 0.13515797117748235, 0.84522550214262149, 0.065017346318663197, 0.091789194802818636, 0.16428379958630993, 0.66427797224029661, 0.16428379958630993, 0.16889026625593614, 0.68290412007835055, 0.15420415614672431, 0.14827583131488178, 0.090024611869749666, 0.76256141819082068, 0.21038504762822208, 0.1386628723004191, 0.65028105630541366, 0.09942853946030096, 0.81272023558854689, 0.090782579507231301, 0.71021018890786369, 0.095401368659265282, 0.19080273731853056, 0.3844808272298898, 0.36001386549707864, 0.25515545807074502, 0.32398911453138907, 0.18185195460794096, 0.49538980738025296, 0.71354205740069643, 0.19027788197351905, 0.099895888036097502, 0.17344631362370083, 0.55502820359584271, 0.2705762492529733, 0.1986193218342116, 0.69771402798171767, 0.10694886560303701, 0.45259440976014131, 0.15204343452879748, 0.39602010854012365, 0.16832722005239009, 0.645254343534162, 0.18936812255893887, 0.16784061620572843, 0.74452375906643642, 0.090375716418469157, 0.11219307562168621, 0.073505808165932343, 0.8124326165708311, 0.80741274536025598, 0.088618472051735411, 0.10338821739369132, 0.76458166543344119, 0.13986249977440998, 0.093241666516273317, 0.32173491862752146, 0.21448994575168098, 0.46115338336611411, 0.30063782102419256, 0.15031891051209628, 0.55264305335329511, 0.87256193834050078, 0.082230968011146668, 0.045683871117303709, 0.13584878950438453, 0.16845249898543682, 0.69554580226244878, 0.30472475255359421, 0.12534777055396074, 0.57054847286630406, 0.29700444461071046, 0.52366573128730531, 0.18758175449097503, 0.1201656954923446, 0.64889475565866084, 0.23071813534530164, 0.83553998247194494, 0.076343754743629491, 0.089067713867567733, 0.81808083697461587, 0.087206586682573264, 0.095511975890437389, 0.27170656643831836, 0.20020483842823458, 0.52911278727461997, 0.16238527982792555, 0.69164100667449768, 0.13832820133489954, 0.66592171792024968, 0.15109148221719951, 0.18186937674292533, 0.26868570291594451, 0.16077095338413072, 0.56820419141240719, 0.27661624361372489, 0.35255011440964934, 0.37153358210863047, 0.11643278835146323, 0.16633255478780459, 0.71938829945725491, 0.13103087030340088, 0.08423413090932913, 0.78618522182040518, 0.35680320294843915, 0.54215551616840751, 0.097309964440483412, 0.81901742756027252, 0.082386368452808473, 0.096925139356245263], \"Term\": [\"able\", \"able\", \"able\", \"adidas\", \"adidas\", \"adidas\", \"album\", \"album\", \"album\", \"art\", \"art\", \"art\", \"artist\", \"artist\", \"artist\", \"ask\", \"ask\", \"ask\", \"baby\", \"baby\", \"baby\", \"break\", \"break\", \"break\", \"bring\", \"bring\", \"bring\", \"brother\", \"brother\", \"brother\", \"change\", \"change\", \"change\", \"come\", \"come\", \"come\", \"cover\", \"cover\", \"cover\", \"create\", \"create\", \"create\", \"creative\", \"creative\", \"creative\", \"dark\", \"dark\", \"dark\", \"day\", \"day\", \"day\", \"debt\", \"debt\", \"debt\", \"dollar\", \"dollar\", \"dollar\", \"dream\", \"dream\", \"dream\", \"energy\", \"energy\", \"energy\", \"family\", \"family\", \"family\", \"favorite\", \"favorite\", \"favorite\", \"feel\", \"feel\", \"feel\", \"fit\", \"fit\", \"fit\", \"free\", \"free\", \"free\", \"friend\", \"friend\", \"friend\", \"garden\", \"garden\", \"garden\", \"god\", \"god\", \"god\", \"good\", \"good\", \"good\", \"grammys\", \"grammys\", \"grammys\", \"great\", \"great\", \"great\", \"guy\", \"guy\", \"guy\", \"head\", \"head\", \"head\", \"help\", \"help\", \"help\", \"idea\", \"idea\", \"idea\", \"important\", \"important\", \"important\", \"kendrick\", \"kendrick\", \"kendrick\", \"kid\", \"kid\", \"kid\", \"know\", \"know\", \"know\", \"let\", \"let\", \"let\", \"life\", \"life\", \"life\", \"light\", \"light\", \"light\", \"like\", \"like\", \"like\", \"love\", \"love\", \"love\", \"madison\", \"madison\", \"madison\", \"madison square\", \"madison square\", \"madison square\", \"madison square garden\", \"madison square garden\", \"madison square garden\", \"million\", \"million\", \"million\", \"mom\", \"mom\", \"mom\", \"money\", \"money\", \"money\", \"music\", \"music\", \"music\", \"new\", \"new\", \"new\", \"new album\", \"new album\", \"new album\", \"party\", \"party\", \"party\", \"people\", \"people\", \"people\", \"person\", \"person\", \"person\", \"play\", \"play\", \"play\", \"positive\", \"positive\", \"positive\", \"positive energy\", \"positive energy\", \"positive energy\", \"proud\", \"proud\", \"proud\", \"pusha\", \"pusha\", \"pusha\", \"rap\", \"rap\", \"rap\", \"respect\", \"respect\", \"respect\", \"right\", \"right\", \"right\", \"season\", \"season\", \"season\", \"song\", \"song\", \"song\", \"speak\", \"speak\", \"speak\", \"square\", \"square\", \"square\", \"square garden\", \"square garden\", \"square garden\", \"stand\", \"stand\", \"stand\", \"start\", \"start\", \"start\", \"swish\", \"swish\", \"swish\", \"tell\", \"tell\", \"tell\", \"th\", \"th\", \"th\", \"thank\", \"thank\", \"thank\", \"thing\", \"thing\", \"thing\", \"ticket\", \"ticket\", \"ticket\", \"tidal\", \"tidal\", \"tidal\", \"time\", \"time\", \"time\", \"title\", \"title\", \"title\", \"today\", \"today\", \"today\", \"tour\", \"tour\", \"tour\", \"true\", \"true\", \"true\", \"try\", \"try\", \"try\", \"use\", \"use\", \"use\", \"ve\", \"ve\", \"ve\", \"video\", \"video\", \"video\", \"wanna\", \"wanna\", \"wanna\", \"want\", \"want\", \"want\", \"watch\", \"watch\", \"watch\", \"wave\", \"wave\", \"wave\", \"way\", \"way\", \"way\", \"wife\", \"wife\", \"wife\", \"win\", \"win\", \"win\", \"word\", \"word\", \"word\", \"work\", \"work\", \"work\", \"world\", \"world\", \"world\", \"year\", \"year\", \"year\", \"yeezus\", \"yeezus\", \"yeezus\", \"yeezus tour\", \"yeezus tour\", \"yeezus tour\", \"yeezy\", \"yeezy\", \"yeezy\", \"yesterday\", \"yesterday\", \"yesterday\"]}, \"mdsDat\": {\"y\": [0.075459051770517982, 0.014829819985875833, -0.090288871756393926], \"cluster\": [1, 1, 1], \"Freq\": [46.119397127758191, 27.150614146194457, 26.729988726047356], \"topics\": [1, 2, 3], \"x\": [0.069231692404018511, -0.10916240554395784, 0.039930713139939365]}, \"R\": 30, \"lambda.step\": 0.01, \"tinfo\": {\"Category\": [\"Default\", \"Default\", \"Default\", \"Default\", \"Default\", \"Default\", \"Default\", \"Default\", \"Default\", \"Default\", \"Default\", \"Default\", \"Default\", \"Default\", \"Default\", \"Default\", \"Default\", \"Default\", \"Default\", \"Default\", \"Default\", \"Default\", \"Default\", \"Default\", \"Default\", \"Default\", \"Default\", \"Default\", \"Default\", \"Default\", \"Topic1\", \"Topic1\", \"Topic1\", \"Topic1\", \"Topic1\", \"Topic1\", \"Topic1\", \"Topic1\", \"Topic1\", \"Topic1\", \"Topic1\", \"Topic1\", \"Topic1\", \"Topic1\", \"Topic1\", \"Topic1\", \"Topic1\", \"Topic1\", \"Topic1\", \"Topic1\", \"Topic1\", \"Topic1\", \"Topic1\", \"Topic1\", \"Topic1\", \"Topic1\", \"Topic1\", \"Topic1\", \"Topic1\", \"Topic1\", \"Topic1\", \"Topic1\", \"Topic1\", \"Topic1\", \"Topic1\", \"Topic1\", \"Topic1\", \"Topic2\", \"Topic2\", \"Topic2\", \"Topic2\", \"Topic2\", \"Topic2\", \"Topic2\", \"Topic2\", \"Topic2\", \"Topic2\", \"Topic2\", \"Topic2\", \"Topic2\", \"Topic2\", \"Topic2\", \"Topic2\", \"Topic2\", \"Topic2\", \"Topic2\", \"Topic2\", \"Topic2\", \"Topic2\", \"Topic2\", \"Topic2\", \"Topic2\", \"Topic2\", \"Topic2\", \"Topic2\", \"Topic2\", \"Topic2\", \"Topic2\", \"Topic2\", \"Topic2\", \"Topic2\", \"Topic2\", \"Topic2\", \"Topic3\", \"Topic3\", \"Topic3\", \"Topic3\", \"Topic3\", \"Topic3\", \"Topic3\", \"Topic3\", \"Topic3\", \"Topic3\", \"Topic3\", \"Topic3\", \"Topic3\", \"Topic3\", \"Topic3\", \"Topic3\", \"Topic3\", \"Topic3\", \"Topic3\", \"Topic3\", \"Topic3\", \"Topic3\", \"Topic3\", \"Topic3\", \"Topic3\", \"Topic3\", \"Topic3\", \"Topic3\", \"Topic3\", \"Topic3\", \"Topic3\", \"Topic3\", \"Topic3\", \"Topic3\"], \"Term\": [\"fit\", \"album\", \"season\", \"respect\", \"new\", \"tour\", \"help\", \"know\", \"cover\", \"swish\", \"want\", \"yeezus tour\", \"world\", \"today\", \"yeezus\", \"pusha\", \"rap\", \"stand\", \"person\", \"new album\", \"life\", \"video\", \"thank\", \"head\", \"dream\", \"tidal\", \"god\", \"wanna\", \"like\", \"wave\", \"head\", \"video\", \"dream\", \"like\", \"speak\", \"idea\", \"way\", \"friend\", \"right\", \"creative\", \"kid\", \"yesterday\", \"wife\", \"true\", \"baby\", \"art\", \"day\", \"love\", \"ask\", \"great\", \"feel\", \"family\", \"proud\", \"try\", \"million\", \"able\", \"light\", \"tell\", \"thing\", \"dollar\", \"people\", \"work\", \"brother\", \"artist\", \"free\", \"debt\", \"new\", \"season\", \"cover\", \"swish\", \"pusha\", \"album\", \"today\", \"new album\", \"know\", \"tidal\", \"word\", \"energy\", \"square garden\", \"dark\", \"madison square\", \"square\", \"madison square garden\", \"garden\", \"wave\", \"madison\", \"important\", \"title\", \"new\", \"positive energy\", \"change\", \"guy\", \"song\", \"ticket\", \"yeezy\", \"positive\", \"watch\", \"music\", \"money\", \"good\", \"year\", \"let\", \"th\", \"fit\", \"respect\", \"tour\", \"yeezus tour\", \"person\", \"stand\", \"rap\", \"yeezus\", \"wanna\", \"help\", \"start\", \"adidas\", \"party\", \"kendrick\", \"god\", \"life\", \"want\", \"world\", \"create\", \"grammys\", \"ve\", \"bring\", \"win\", \"play\", \"thank\", \"break\", \"favorite\", \"use\", \"come\", \"mom\", \"time\", \"year\", \"people\", \"family\"], \"loglift\": [30.0, 29.0, 28.0, 27.0, 26.0, 25.0, 24.0, 23.0, 22.0, 21.0, 20.0, 19.0, 18.0, 17.0, 16.0, 15.0, 14.0, 13.0, 12.0, 11.0, 10.0, 9.0, 8.0, 7.0, 6.0, 5.0, 4.0, 3.0, 2.0, 1.0, 0.6613, 0.63749999999999996, 0.62949999999999995, 0.629, 0.60540000000000005, 0.59950000000000003, 0.59199999999999997, 0.59109999999999996, 0.59030000000000005, 0.58709999999999996, 0.57669999999999999, 0.57599999999999996, 0.57210000000000005, 0.56299999999999994, 0.55189999999999995, 0.54800000000000004, 0.5474, 0.54300000000000004, 0.52790000000000004, 0.52359999999999995, 0.51839999999999997, 0.5141, 0.51190000000000002, 0.50480000000000003, 0.49480000000000002, 0.4607, 0.45760000000000001, 0.43530000000000002, 0.43330000000000002, 0.42180000000000001, 0.40460000000000002, 0.36709999999999998, 0.37740000000000001, 0.28129999999999999, 0.35149999999999998, 0.34949999999999998, -0.47760000000000002, 1.1153, 1.1003000000000001, 1.0948, 1.0575000000000001, 1.0407999999999999, 1.0065999999999999, 0.99270000000000003, 0.94430000000000003, 0.94120000000000004, 0.93869999999999998, 0.93089999999999995, 0.9194, 0.90429999999999999, 0.89929999999999999, 0.89759999999999995, 0.89290000000000003, 0.88219999999999998, 0.87019999999999997, 0.86970000000000003, 0.86919999999999997, 0.86150000000000004, 0.85299999999999998, 0.85250000000000004, 0.77039999999999997, 0.75739999999999996, 0.71709999999999996, 0.71319999999999995, 0.69489999999999996, 0.68689999999999996, 0.65000000000000002, 0.62439999999999996, 0.58340000000000003, 0.38419999999999999, 0.2576, 0.50770000000000004, 0.28310000000000002, 1.1999, 1.1246, 1.1119000000000001, 1.0801000000000001, 1.0573999999999999, 1.0463, 0.99619999999999997, 0.98729999999999996, 0.95750000000000002, 0.9214, 0.88929999999999998, 0.87460000000000004, 0.86129999999999995, 0.80159999999999998, 0.79900000000000004, 0.78380000000000005, 0.75729999999999997, 0.75509999999999999, 0.75290000000000001, 0.72729999999999995, 0.72330000000000005, 0.70169999999999999, 0.68600000000000005, 0.64849999999999997, 0.6169, 0.59950000000000003, 0.57310000000000005, 0.54369999999999996, 0.47539999999999999, 0.42030000000000001, 0.39400000000000002, 0.33040000000000003, -0.16569999999999999, -0.33829999999999999], \"Freq\": [373.0, 518.0, 376.0, 347.0, 574.0, 258.0, 371.0, 339.0, 240.0, 231.0, 462.0, 213.0, 454.0, 232.0, 240.0, 203.0, 209.0, 188.0, 180.0, 197.0, 313.0, 437.0, 478.0, 350.0, 446.0, 196.0, 252.0, 184.0, 430.0, 208.0, 312.85156705999293, 381.95901156649279, 386.5887900688183, 372.04954374583542, 220.91543684570138, 208.95149312134217, 196.55789320581064, 304.33568444169276, 255.96942137957373, 192.38234031922639, 247.35924039299053, 169.28910502693304, 196.78919613251168, 164.48614349985411, 161.99151274246347, 144.47106097416219, 209.61773719763823, 476.83075519064755, 206.75448567553539, 267.41533488311916, 239.92985399476672, 443.34759261508805, 244.41494492880031, 163.88862541127912, 122.60697588512789, 125.40001081231073, 135.48126736651304, 134.48107165047813, 149.53097901298011, 109.99371159407065, 373.3656847860637, 237.93872133707882, 202.11634048601505, 207.70345433456157, 164.74156680292947, 162.14302641690793, 164.43849854255922, 311.54377387445442, 196.36902074205233, 187.70014344485446, 158.71397193834127, 398.36180877902393, 172.62263377121587, 144.78851067056948, 236.95364847824183, 136.6357604388221, 115.41253277201433, 106.18047707649409, 92.720772525009522, 93.747329882377841, 94.181895933909743, 93.271518655499634, 93.257707579858163, 91.083270074668022, 134.85104938732206, 91.798001808164571, 130.06796462164155, 91.619223101214672, 366.24086456973703, 80.292289307264824, 97.607100528756973, 141.49062895245123, 106.99127724423292, 79.854897891145725, 117.38744563970612, 112.05914262649098, 66.543932383029087, 135.43946050014418, 116.98317546462653, 130.38353605487066, 129.53457675635869, 101.31827406075938, 103.09653013390711, 331.54527907745717, 285.6311125152522, 210.04269503265604, 168.21667977052928, 138.67122442324961, 143.71214479888459, 151.88154930521648, 172.52659248448199, 128.15007593943284, 249.60129290712797, 136.04009490238141, 115.13843593911895, 121.43871356662049, 89.922977930987116, 150.2474150893384, 183.53799566971114, 263.75331117544334, 258.25133878969115, 119.72104220049893, 115.75618813665032, 124.62048806711022, 91.507403137661882, 111.34770183488877, 82.308074148621387, 236.97424417494162, 105.2127920856655, 103.69558457437549, 85.859207103590506, 100.34382237216253, 78.311347616591405, 112.09752539501345, 137.15644157175555, 122.33955683561821, 109.55984291804285], \"Total\": [373.0, 518.0, 376.0, 347.0, 574.0, 258.0, 371.0, 339.0, 240.0, 231.0, 462.0, 213.0, 454.0, 232.0, 240.0, 203.0, 209.0, 188.0, 180.0, 197.0, 313.0, 437.0, 478.0, 350.0, 446.0, 196.0, 252.0, 184.0, 430.0, 208.0, 350.14114642272131, 437.79127098589043, 446.67199578519319, 430.06648792122928, 261.46868432125103, 248.76504346675085, 235.77567098246516, 365.40058458107541, 307.56456256263806, 231.8943737521046, 301.30538350610993, 206.34481552294329, 240.80749859455844, 203.11792319654992, 202.25543182659425, 181.0910181626673, 262.90256846949114, 600.68661680314108, 264.42046161091673, 343.47953738036063, 309.80148246595377, 574.89335850099837, 317.62460416960766, 214.4963807195513, 162.08210558039991, 171.52516845262664, 185.89703260635173, 188.6765384288002, 210.218862986749, 156.41742717633204, 540.16896592262106, 357.39936631485972, 300.47033136064363, 339.92104958735808, 251.35164780605155, 247.86072465679376, 574.80901762317433, 376.16694280367784, 240.67457765495652, 231.32191345507252, 203.02580939820257, 518.16298807860289, 232.36330324357402, 197.62522320641227, 339.46452086891702, 196.35551888830568, 166.27122870133937, 154.16569462696319, 136.1830998901134, 139.78020482105487, 141.13509977426111, 140.0016316759004, 140.64149714184424, 138.84895664522602, 208.04606420800582, 141.68781582466298, 200.86115609485844, 142.57943541472525, 574.80901762317433, 126.08155700915077, 166.39228610661735, 244.3625758461431, 192.36749244969181, 144.13681950161572, 215.80523763158902, 207.65245609408973, 127.94421325851653, 267.1593999918548, 240.42614086820458, 327.03128546358079, 368.74190274391776, 224.60629072786136, 286.10009188892144, 373.64089356760428, 347.05576136266768, 258.48297534678233, 213.69010169257243, 180.20365834766858, 188.83724846929766, 209.8203653713644, 240.48208753258911, 184.02813960438803, 371.61096730314233, 209.14033813730794, 179.63347004472047, 191.99515337502231, 150.92556713926683, 252.81519395214838, 313.56067756386255, 462.71265730276139, 454.06212044772036, 210.94877990930144, 209.26105477700281, 226.18577984746634, 169.70669917463894, 209.78513970857563, 160.98421872659094, 478.41113496726177, 216.13308776058665, 218.71737744132645, 186.48892776684622, 233.3545658145141, 192.43825707708396, 282.81392178006655, 368.74190274391776, 540.16896592262106, 574.89335850099837], \"logprob\": [30.0, 29.0, 28.0, 27.0, 26.0, 25.0, 24.0, 23.0, 22.0, 21.0, 20.0, 19.0, 18.0, 17.0, 16.0, 15.0, 14.0, 13.0, 12.0, 11.0, 10.0, 9.0, 8.0, 7.0, 6.0, 5.0, 4.0, 3.0, 2.0, 1.0, -3.8592, -3.6597, -3.6476000000000002, -3.6859999999999999, -4.2072000000000003, -4.2629000000000001, -4.3239999999999998, -3.8868, -4.0598999999999998, -4.3455000000000004, -4.0941000000000001, -4.4733999999999998, -4.3228, -4.5022000000000002, -4.5174000000000003, -4.6318999999999999, -4.2596999999999996, -3.4378000000000002, -4.2733999999999996, -4.0162000000000004, -4.1246, -3.5106000000000002, -4.1060999999999996, -4.5057999999999998, -4.7960000000000003, -4.7735000000000003, -4.6961000000000004, -4.7035999999999998, -4.5975000000000001, -4.9046000000000003, -3.6823999999999999, -4.133, -4.2961, -4.2689000000000004, -4.5006000000000004, -4.5164999999999997, -4.5023999999999997, -3.3336000000000001, -3.7951000000000001, -3.8403, -4.008, -3.0878000000000001, -3.9239999999999999, -4.0998999999999999, -3.6073, -4.1577999999999999, -4.3266, -4.4100000000000001, -4.5456000000000003, -4.5345000000000004, -4.5298999999999996, -4.5396000000000001, -4.5397999999999996, -4.5633999999999997, -4.1710000000000003, -4.5556000000000001, -4.2070999999999996, -4.5575000000000001, -3.1718999999999999, -4.6894999999999998, -4.4942000000000002, -4.1228999999999996, -4.4024000000000001, -4.6948999999999996, -4.3097000000000003, -4.3560999999999996, -4.8773, -4.1665999999999999, -4.3131000000000004, -4.2046999999999999, -4.2111999999999998, -4.4569000000000001, -4.4394999999999998, -3.2557999999999998, -3.4047999999999998, -3.7122000000000002, -3.9342999999999999, -4.1273999999999997, -4.0917000000000003, -4.0364000000000004, -3.9089999999999998, -4.2062999999999997, -3.5396999999999998, -4.1466000000000003, -4.3133999999999997, -4.2601000000000004, -4.5606, -4.0472000000000001, -3.8471000000000002, -3.4845000000000002, -3.5055999999999998, -4.2744, -4.3079999999999998, -4.2343000000000002, -4.5430999999999999, -4.3468999999999998, -4.6490999999999998, -3.5916000000000001, -4.4035000000000002, -4.4180999999999999, -4.6067999999999998, -4.4508999999999999, -4.6988000000000003, -4.3402000000000003, -4.1383999999999999, -4.2526999999999999, -4.3631000000000002]}};\n",
       "\n",
       "function LDAvis_load_lib(url, callback){\n",
       "  var s = document.createElement('script');\n",
       "  s.src = url;\n",
       "  s.async = true;\n",
       "  s.onreadystatechange = s.onload = callback;\n",
       "  s.onerror = function(){console.warn(\"failed to load library \" + url);};\n",
       "  document.getElementsByTagName(\"head\")[0].appendChild(s);\n",
       "}\n",
       "\n",
       "if(typeof(LDAvis) !== \"undefined\"){\n",
       "   // already loaded: just create the visualization\n",
       "   !function(LDAvis){\n",
       "       new LDAvis(\"#\" + \"ldavis_el2953446045692962362708981\", ldavis_el2953446045692962362708981_data);\n",
       "   }(LDAvis);\n",
       "}else if(typeof define === \"function\" && define.amd){\n",
       "   // require.js is available: use it to load d3/LDAvis\n",
       "   require.config({paths: {d3: \"https://cdnjs.cloudflare.com/ajax/libs/d3/3.5.5/d3.min\"}});\n",
       "   require([\"d3\"], function(d3){\n",
       "      window.d3 = d3;\n",
       "      LDAvis_load_lib(\"https://cdn.rawgit.com/bmabey/pyLDAvis/files/ldavis.v1.0.0.js\", function(){\n",
       "        new LDAvis(\"#\" + \"ldavis_el2953446045692962362708981\", ldavis_el2953446045692962362708981_data);\n",
       "      });\n",
       "    });\n",
       "}else{\n",
       "    // require.js not available: dynamically load d3 & LDAvis\n",
       "    LDAvis_load_lib(\"https://cdnjs.cloudflare.com/ajax/libs/d3/3.5.5/d3.min.js\", function(){\n",
       "         LDAvis_load_lib(\"https://cdn.rawgit.com/bmabey/pyLDAvis/files/ldavis.v1.0.0.js\", function(){\n",
       "                 new LDAvis(\"#\" + \"ldavis_el2953446045692962362708981\", ldavis_el2953446045692962362708981_data);\n",
       "            })\n",
       "         });\n",
       "}\n",
       "</script>"
      ],
      "text/plain": [
       "<IPython.core.display.HTML object>"
      ]
     },
     "execution_count": 76,
     "metadata": {},
     "output_type": "execute_result"
    }
   ],
   "source": [
    "# display in notebook\n",
    "pyLDAvis.display(prepared)"
   ]
  },
  {
   "cell_type": "code",
   "execution_count": 74,
   "metadata": {
    "collapsed": true
   },
   "outputs": [],
   "source": [
    "# export to html\n",
    "pyLDAvis.save_html(prepared, 'kanye.html')"
   ]
  },
  {
   "cell_type": "markdown",
   "metadata": {},
   "source": [
    "#### 5. More info"
   ]
  },
  {
   "cell_type": "markdown",
   "metadata": {},
   "source": [
    "* https://pyldavis.readthedocs.org\n",
    "* http://nlp.stanford.edu/events/illvi2014/papers/sievert-illvi2014.pdf\n",
    "* https://cran.r-project.org/web/packages/LDAvis/vignettes/details.pdf"
   ]
  }
 ],
 "metadata": {
  "kernelspec": {
   "display_name": "Python 2",
   "language": "python",
   "name": "python2"
  },
  "language_info": {
   "codemirror_mode": {
    "name": "ipython",
    "version": 2
   },
   "file_extension": ".py",
   "mimetype": "text/x-python",
   "name": "python",
   "nbconvert_exporter": "python",
   "pygments_lexer": "ipython2",
   "version": "2.7.11"
  }
 },
 "nbformat": 4,
 "nbformat_minor": 0
}
